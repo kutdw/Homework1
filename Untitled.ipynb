{
 "cells": [
  {
   "cell_type": "markdown",
   "metadata": {},
   "source": [
    "#Assignment 1"
   ]
  },
  {
   "cell_type": "markdown",
   "metadata": {},
   "source": [
    "⑴ a=\"Hello Python\" 문자열을 Slicing과 연결 연산자 (+)를 사용하여 \"Python Hello\"로 변경하시오.\n",
    "◎[주의] a 변수 자체에 \"Python Hello\" 문자열이 저장되어야 함"
   ]
  },
  {
   "cell_type": "code",
   "execution_count": 6,
   "metadata": {
    "collapsed": false
   },
   "outputs": [
    {
     "name": "stdout",
     "output_type": "stream",
     "text": [
      "Python Hello\n"
     ]
    }
   ],
   "source": [
    "a= \"Hello Python\"\n",
    "a= a[6:12]+\" \"+a[0:5]\n",
    "print a"
   ]
  },
  {
   "cell_type": "markdown",
   "metadata": {},
   "source": [
    "#####<span style=\"color:blue\"> 슬라이싱으로 앞부분과 뒷부분을 잘라내어 연결 연산자(+)을 이용하여 앞부분가 뒷부분이 바뀌게 a 변수에 저장한 뒤 출력한다."
   ]
  },
  {
   "cell_type": "markdown",
   "metadata": {},
   "source": [
    "⑵ b=\"Hello Python World\" 문자열을 Slicing과 연결 연산자 (+)를 사용하여 \"World Python Hello\"로 변경하시오. \n",
    "◎[주의] b 변수 자체에 \"Python Hello\" 문자열이 저장되어야 함"
   ]
  },
  {
   "cell_type": "code",
   "execution_count": 8,
   "metadata": {
    "collapsed": false
   },
   "outputs": [
    {
     "name": "stdout",
     "output_type": "stream",
     "text": [
      "World Python Hello\n"
     ]
    }
   ],
   "source": [
    "b= \"Hello Python World\"\n",
    "b= b[6:12]+\" \"+b[0:5]\n",
    "print \"World\"+\" \"+ b"
   ]
  },
  {
   "cell_type": "markdown",
   "metadata": {},
   "source": [
    "#####<span style=\"color:blue\">슬라이싱으로 Python과 Hello 를 잘라 b 변수에 저장한 다음에 문자열 Worold와 변수 b를 출력한다."
   ]
  },
  {
   "cell_type": "markdown",
   "metadata": {},
   "source": [
    "⑶ c=\"Hello\"를 \"olleH\"로 변경하시오.\n",
    "◎[주의] c 변수 자체에 \"olleH\" 문자열이 저장되어야 함"
   ]
  },
  {
   "cell_type": "code",
   "execution_count": 16,
   "metadata": {
    "collapsed": false
   },
   "outputs": [
    {
     "name": "stdout",
     "output_type": "stream",
     "text": [
      "olleH\n"
     ]
    }
   ],
   "source": [
    "c=\"Hello\"\n",
    "c=c[::-1]\n",
    "print c"
   ]
  },
  {
   "cell_type": "markdown",
   "metadata": {},
   "source": [
    "#####<span style=\"color:blue\">변수 c의 문자열을 역순으로 출력한다."
   ]
  },
  {
   "cell_type": "markdown",
   "metadata": {},
   "source": [
    "⑷ s=\"python\"에 대해 다음 문제를 풀어보시오.\n",
    "① s[0], s[0][0], s[0][0][0]은 각각 어떤 값이 나오는지 확인하고 그 이유를 나름대로 설명해 보시오.\n",
    "② s[-100], s[100]은 값이 나오는지 에러가 나오는지 확인하고 그 결과에 대한 이유를 나름대로 설명해 보시오.\n",
    "③ s[-100, 100]은 값이 나오는지 에러가 나오는지 확인하고 그 결과에 대한 이유를 나름대로 설명해 보시오.\n",
    "④ s[1:-1]의 결과를 확인하고 그 결과에 대한 이유를 정확하게 설명하시오.\n",
    "⑤ s[3:-3]의 결과를 확인하고 그 결과에 대한 이유를 정확하게 설명하시오."
   ]
  },
  {
   "cell_type": "code",
   "execution_count": 31,
   "metadata": {
    "collapsed": false
   },
   "outputs": [
    {
     "name": "stdout",
     "output_type": "stream",
     "text": [
      "p\n",
      "p\n",
      "p\n"
     ]
    }
   ],
   "source": [
    "# 1번\n",
    "s=\"python\" \n",
    "print s[0]\n",
    "print s[0][0]\n",
    "print s[0][0][0]"
   ]
  },
  {
   "cell_type": "markdown",
   "metadata": {},
   "source": [
    "<span style=\"color:blue\"> s[0]은 문자열의 첫번째 인덱스 값을 나타내기 때문에 p를 출력한다.  \n",
    "s[0][0]은 2차원배열으로 첫번째 인덱스 값인 p를 출력한다.  \n",
    "s[0][0][0]은 3차원배열으로 첫번째 인덱스 값인 p를 출력한다."
   ]
  },
  {
   "cell_type": "code",
   "execution_count": 25,
   "metadata": {
    "collapsed": false
   },
   "outputs": [
    {
     "ename": "IndexError",
     "evalue": "string index out of range",
     "output_type": "error",
     "traceback": [
      "\u001b[1;31m---------------------------------------------------------------------------\u001b[0m",
      "\u001b[1;31mIndexError\u001b[0m                                Traceback (most recent call last)",
      "\u001b[1;32m<ipython-input-25-a7829df9f59f>\u001b[0m in \u001b[0;36m<module>\u001b[1;34m()\u001b[0m\n\u001b[0;32m      1\u001b[0m \u001b[1;31m#2번\u001b[0m\u001b[1;33m\u001b[0m\u001b[1;33m\u001b[0m\u001b[0m\n\u001b[1;32m----> 2\u001b[1;33m \u001b[1;32mprint\u001b[0m \u001b[0ms\u001b[0m\u001b[1;33m[\u001b[0m\u001b[1;33m-\u001b[0m\u001b[1;36m100\u001b[0m\u001b[1;33m]\u001b[0m\u001b[1;33m,\u001b[0m\u001b[0ms\u001b[0m\u001b[1;33m[\u001b[0m\u001b[1;36m100\u001b[0m\u001b[1;33m]\u001b[0m\u001b[1;33m\u001b[0m\u001b[0m\n\u001b[0m",
      "\u001b[1;31mIndexError\u001b[0m: string index out of range"
     ]
    }
   ],
   "source": [
    "#2번\n",
    "print s[-100],s[100]"
   ]
  },
  {
   "cell_type": "markdown",
   "metadata": {},
   "source": [
    "#####<span style=\"color:blue\">문자열 인덱스의 범위를 초과하였기 때문에 오류가 난다."
   ]
  },
  {
   "cell_type": "code",
   "execution_count": 26,
   "metadata": {
    "collapsed": false
   },
   "outputs": [
    {
     "ename": "TypeError",
     "evalue": "string indices must be integers, not tuple",
     "output_type": "error",
     "traceback": [
      "\u001b[1;31m---------------------------------------------------------------------------\u001b[0m",
      "\u001b[1;31mTypeError\u001b[0m                                 Traceback (most recent call last)",
      "\u001b[1;32m<ipython-input-26-7d75c5882b72>\u001b[0m in \u001b[0;36m<module>\u001b[1;34m()\u001b[0m\n\u001b[0;32m      1\u001b[0m \u001b[1;31m#3)\u001b[0m\u001b[1;33m\u001b[0m\u001b[1;33m\u001b[0m\u001b[0m\n\u001b[1;32m----> 2\u001b[1;33m \u001b[1;32mprint\u001b[0m \u001b[0ms\u001b[0m\u001b[1;33m[\u001b[0m\u001b[1;33m-\u001b[0m\u001b[1;36m100\u001b[0m\u001b[1;33m,\u001b[0m\u001b[1;36m100\u001b[0m\u001b[1;33m]\u001b[0m\u001b[1;33m\u001b[0m\u001b[0m\n\u001b[0m",
      "\u001b[1;31mTypeError\u001b[0m: string indices must be integers, not tuple"
     ]
    }
   ],
   "source": [
    "#3번\n",
    "print s[-100,100]"
   ]
  },
  {
   "cell_type": "markdown",
   "metadata": {},
   "source": [
    "#####<span style=\"color:blue\">문자열 인덱스 이기 때문에 ':' 형식으로 출력해주어야 하는데 콤마 형태의 튜플로 출력을 하였기 때문에 오류가 났다."
   ]
  },
  {
   "cell_type": "code",
   "execution_count": 33,
   "metadata": {
    "collapsed": false
   },
   "outputs": [
    {
     "name": "stdout",
     "output_type": "stream",
     "text": [
      "ytho\n"
     ]
    }
   ],
   "source": [
    "#4번\n",
    "print s[1:-1]"
   ]
  },
  {
   "cell_type": "markdown",
   "metadata": {},
   "source": [
    "#####<span style=\"color:blue\">인덱스 값은 0부터 시작하기때문에 1은 y부터이고, -1은 마지막 인덱스값 [5]와 같다. 때문에 [1]부터 [5]전까지인 ytho 가 출력된다."
   ]
  },
  {
   "cell_type": "code",
   "execution_count": 34,
   "metadata": {
    "collapsed": false
   },
   "outputs": [
    {
     "name": "stdout",
     "output_type": "stream",
     "text": [
      "\n"
     ]
    }
   ],
   "source": [
    "#5번\n",
    "print s[3:-3]"
   ]
  },
  {
   "cell_type": "markdown",
   "metadata": {},
   "source": [
    "#####<span style=\"color:blue\"> 3과 -3이 같은 인덱스값을 가지고 있기 때문에 출력을 하면 아무것도 안나오게 된다."
   ]
  },
  {
   "cell_type": "markdown",
   "metadata": {},
   "source": [
    "⑸ for문을 활용하여 1부터 100사이의 홀수를 출력하시오."
   ]
  },
  {
   "cell_type": "code",
   "execution_count": 1,
   "metadata": {
    "collapsed": false
   },
   "outputs": [
    {
     "name": "stdout",
     "output_type": "stream",
     "text": [
      "1 3 5 7 9 11 13 15 17 19 21 23 25 27 29 31 33 35 37 39 41 43 45 47 49 51 53 55 57 59 61 63 65 67 69 71 73 75 77 79 81 83 85 87 89 91 93 95 97 99\n"
     ]
    }
   ],
   "source": [
    "for i in range(1,101,2):\n",
    "    print i,"
   ]
  },
  {
   "cell_type": "markdown",
   "metadata": {},
   "source": [
    "#####<span style=\"color:blue\"> 먼저 Range함수는 1부터 101사이에 값을 2의 간격으로 출력한다. for문을 이용하여 i가 range 범위 안에 있는 값을 출력하면 1부터 100사이의 홀수를 출력할 수 있다."
   ]
  },
  {
   "cell_type": "markdown",
   "metadata": {},
   "source": [
    "⑹ while문을 활용하여 1부터 100사이의 짝수의 합을 계산하여 출력하시오."
   ]
  },
  {
   "cell_type": "code",
   "execution_count": 2,
   "metadata": {
    "collapsed": false
   },
   "outputs": [
    {
     "name": "stdout",
     "output_type": "stream",
     "text": [
      "2550\n"
     ]
    }
   ],
   "source": [
    "count = 1\n",
    "sum = 0\n",
    "\n",
    "while count < 101:\n",
    "    if count%2 == 0:\n",
    "        sum += count\n",
    "    count+=1\n",
    "    \n",
    "print sum"
   ]
  },
  {
   "cell_type": "markdown",
   "metadata": {
    "collapsed": true
   },
   "source": [
    "#####<span style=\"color:blue\"> 1부터 101까지 count 변수에 값을 2로 나눴을때 나머지가 0 이면 모두 더하여 짝수의 합을 구하였다. "
   ]
  },
  {
   "cell_type": "markdown",
   "metadata": {},
   "source": [
    "⑺ 사용자로 부터 임의의 정수를 입력받고, 해당 숫자를 역순으로 출력하는 프로그램을 작성하시오.\n",
    "[실행 예]\n",
    "정수를 입력하세요: 3125\n",
    "숫자 역순은 5213 입니다."
   ]
  },
  {
   "cell_type": "code",
   "execution_count": 8,
   "metadata": {
    "collapsed": false
   },
   "outputs": [
    {
     "name": "stdout",
     "output_type": "stream",
     "text": [
      "Integer: 10\n",
      "Reverce integer is 1\n"
     ]
    }
   ],
   "source": [
    "def digitCountForInteger(number):\n",
    "        digitCount = -1\n",
    "        while number!=0:\n",
    "            number/=10\n",
    "            digitCount+=1\n",
    "        return digitCount\n",
    "\n",
    "num = input(\"Integer: \")\n",
    "result = 0\n",
    "while num!=0:\n",
    "    result = result + ((num%10) * pow(10,digitCountForInteger(num)))\n",
    "    num/=10\n",
    "print 'Reverce integer is', result"
   ]
  },
  {
   "cell_type": "markdown",
   "metadata": {},
   "source": []
  },
  {
   "cell_type": "markdown",
   "metadata": {
    "collapsed": true
   },
   "source": [
    "⑻ 사용자로 부터 정수를 입력받아서 1부터 그 사이에 존재하는 소수 (Prime number)를 출력하는 파이썬 프로그램을 작성하시오."
   ]
  },
  {
   "cell_type": "code",
   "execution_count": 3,
   "metadata": {
    "collapsed": false
   },
   "outputs": [
    {
     "name": "stdout",
     "output_type": "stream",
     "text": [
      "Integer: 10\n",
      "Prim number list\n",
      "2 3 5 7\n"
     ]
    }
   ],
   "source": [
    "import math\n",
    "def isPrime(number):\n",
    "        integerRange=math.floor(math.sqrt(number))\n",
    "        x=3\n",
    "        if number==2:\n",
    "            return True\n",
    "        \n",
    "        if number%2 == 0 or number == 1:\n",
    "            return False\n",
    "        \n",
    "        while x <= integerRange:\n",
    "            if number%x == 0:\n",
    "                return False\n",
    "            x+=2\n",
    "        \n",
    "        \"\"\"\n",
    "        for x in range(3,integerRange+1,2):\n",
    "            if number%x == 0:\n",
    "                return False\n",
    "        \"\"\"\n",
    "        return True\n",
    "\n",
    "number=input(\"Integer: \")\n",
    "print 'Prim number list'\n",
    "for x in range(1, number+1):\n",
    "    if isPrime(x):\n",
    "        print x,"
   ]
  },
  {
   "cell_type": "markdown",
   "metadata": {},
   "source": [
    "###<hr>프로젝트 오일러 문제\n",
    "(1) 10보다 작은 자연수 중에서 3 또는 5의 배수는 3, 5, 6, 9 이고, 이것을 모두 더하면 23입니다.\n",
    "\n",
    "1000보다 작은 자연수 중에서 3 또는 5의 배수를 모두 더하면 얼마일까요?"
   ]
  },
  {
   "cell_type": "code",
   "execution_count": 5,
   "metadata": {
    "collapsed": false
   },
   "outputs": [
    {
     "name": "stdout",
     "output_type": "stream",
     "text": [
      "233168\n"
     ]
    }
   ],
   "source": [
    "list = range(1,1000)\n",
    "caseSum = 0\n",
    "\n",
    "for element in list:\n",
    "    if element%3 == 0 or element%5 == 0:\n",
    "        caseSum += element\n",
    "print caseSum"
   ]
  },
  {
   "cell_type": "markdown",
   "metadata": {},
   "source": [
    "#####<span style=\"color:blue\"> range함수를 이용하여 1000보다 작은 자연수를 list에 넣고 list에 속하는 3의배수, 5의배수를 for문으로 다 더하여 출력한다."
   ]
  },
  {
   "cell_type": "markdown",
   "metadata": {},
   "source": [
    "(2) 피보나치 수열의 각 항은 바로 앞의 항 두 개를 더한 것이 됩니다. 1과 2로 시작하는 경우 이 수열은 아래와 같습니다.\n",
    "\n",
    "1, 2, 3, 5, 8, 13, 21, 34, 55, 89, ...\n",
    "짝수이면서 4백만 이하인 모든 항을 더하면 얼마가 됩니까?"
   ]
  },
  {
   "cell_type": "code",
   "execution_count": 6,
   "metadata": {
    "collapsed": false
   },
   "outputs": [
    {
     "name": "stdout",
     "output_type": "stream",
     "text": [
      "4613732\n"
     ]
    }
   ],
   "source": [
    "previousValue = 1\n",
    "currentValue  = 2\n",
    "caseSum = 0\n",
    "\n",
    "while currentValue <= 4000000:\n",
    "    \n",
    "    if currentValue%2 == 0:\n",
    "        caseSum += currentValue\n",
    "    \n",
    "    previousValue, currentValue = currentValue, previousValue+currentValue\n",
    "    \n",
    "print caseSum"
   ]
  },
  {
   "cell_type": "markdown",
   "metadata": {},
   "source": [
    "#####<span style=\"color:blue\"> 400만이하이면서 짝수인 수 라면, 앞의 항과 그 다음항을  currentvalue값에 계속 더해간다. while문의 조건을 만족할때 까지 반복을 하고 최종적으로 조건을 만족하는 피보나치 수열의 합인 caseSum을 구한다. "
   ]
  },
  {
   "cell_type": "markdown",
   "metadata": {},
   "source": [
    "(3) 어떤 수를 소수의 곱으로만 나타내는 것을 소인수분해라 하고, 이 소수들을 그 수의 소인수라고 합니다.\n",
    "예를 들면 13195의 소인수는 5, 7, 13, 29 입니다.\n",
    "\n",
    "600851475143의 소인수 중에서 가장 큰 수를 구하세요."
   ]
  },
  {
   "cell_type": "code",
   "execution_count": 7,
   "metadata": {
    "collapsed": false
   },
   "outputs": [
    {
     "name": "stdout",
     "output_type": "stream",
     "text": [
      "6857\n"
     ]
    }
   ],
   "source": [
    "target=600851475143\n",
    "x=2\n",
    "while x < target:\n",
    "    while target%x == 0:\n",
    "        target/=x\n",
    "    x+=1\n",
    "             \n",
    "print target"
   ]
  },
  {
   "cell_type": "markdown",
   "metadata": {},
   "source": [
    "#####<span style=\"color:blue\"> 소인수를 구하기 위해서 타겟값을 x = 2부터 나눠간다. 타겟값을 x로 나누었을때 나머지가 0 이 나오면 타겟을 x로 나눈 값을 새로 타겟값으로 지정해준다. 그리고 x값을 1씩 늘려나가며 while문의 조건을 만족할때 까지 끝이난다면, target값은 가장 큰 소인수로 구할 수 있다."
   ]
  },
  {
   "cell_type": "markdown",
   "metadata": {},
   "source": [
    "#소감\n",
    "\n",
    "우선 이러닝을 듣고 같은 내용을 복습하고 보충자료로 수업을 하는 방식이 너무 좋은 것 같습니다. 웹개발을 하고싶기때문에 스크립트 언어를 배우고 싶었는데 파이썬을 배우면 도움이 될것 같습니다. 그리고 이번과제는 7번 8번은 좀 어려웠고, 프로젝트 오일러도 수학적인 지식을 필요로 하기 때문에 조금 어려웠습니다. 제가 부족한것 같고, 좀 더 열심히 하겠습니다.앞으로도 재미있는 파이썬 수업이 되었으면 좋겠습니다."
   ]
  }
 ],
 "metadata": {
  "kernelspec": {
   "display_name": "Python 2",
   "language": "python",
   "name": "python2"
  },
  "language_info": {
   "codemirror_mode": {
    "name": "ipython",
    "version": 2
   },
   "file_extension": ".py",
   "mimetype": "text/x-python",
   "name": "python",
   "nbconvert_exporter": "python",
   "pygments_lexer": "ipython2",
   "version": "2.7.9"
  }
 },
 "nbformat": 4,
 "nbformat_minor": 0
}
